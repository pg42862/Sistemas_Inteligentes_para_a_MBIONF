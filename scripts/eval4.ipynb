{
 "cells": [
  {
   "cell_type": "markdown",
   "id": "f07b8dde",
   "metadata": {},
   "source": [
    "# Neural Networks"
   ]
  },
  {
   "cell_type": "markdown",
   "id": "423f292f",
   "metadata": {},
   "source": [
    "## XNOR"
   ]
  },
  {
   "cell_type": "code",
   "execution_count": 3,
   "id": "698c23e4",
   "metadata": {},
   "outputs": [],
   "source": [
    "import numpy as np\n",
    "from si.data import Dataset\n",
    "X = np.array([[0,0], [0,1], [1,0], [1,1]])\n",
    "y = np.array([[1], [0], [0], [1]])\n",
    "dataset = Dataset(X,y,['X1','X2'],'X1 XNOR X2')"
   ]
  },
  {
   "cell_type": "code",
   "execution_count": 4,
   "id": "5539ea95",
   "metadata": {},
   "outputs": [
    {
     "data": {
      "text/plain": "   X1  X2  X1 XNOR X2\n0   0   0           1\n1   0   1           0\n2   1   0           0\n3   1   1           1",
      "text/html": "<div>\n<style scoped>\n    .dataframe tbody tr th:only-of-type {\n        vertical-align: middle;\n    }\n\n    .dataframe tbody tr th {\n        vertical-align: top;\n    }\n\n    .dataframe thead th {\n        text-align: right;\n    }\n</style>\n<table border=\"1\" class=\"dataframe\">\n  <thead>\n    <tr style=\"text-align: right;\">\n      <th></th>\n      <th>X1</th>\n      <th>X2</th>\n      <th>X1 XNOR X2</th>\n    </tr>\n  </thead>\n  <tbody>\n    <tr>\n      <th>0</th>\n      <td>0</td>\n      <td>0</td>\n      <td>1</td>\n    </tr>\n    <tr>\n      <th>1</th>\n      <td>0</td>\n      <td>1</td>\n      <td>0</td>\n    </tr>\n    <tr>\n      <th>2</th>\n      <td>1</td>\n      <td>0</td>\n      <td>0</td>\n    </tr>\n    <tr>\n      <th>3</th>\n      <td>1</td>\n      <td>1</td>\n      <td>1</td>\n    </tr>\n  </tbody>\n</table>\n</div>"
     },
     "execution_count": 4,
     "metadata": {},
     "output_type": "execute_result"
    }
   ],
   "source": [
    "dataset.toDataframe()"
   ]
  },
  {
   "cell_type": "code",
   "execution_count": 5,
   "id": "049da626",
   "metadata": {},
   "outputs": [],
   "source": [
    "from si.supervised import NN, Dense, Activation\n",
    "from si.util import Sigmoid, cross_entropy, cross_entropy_prime"
   ]
  },
  {
   "cell_type": "code",
   "execution_count": 6,
   "id": "34441798",
   "metadata": {},
   "outputs": [],
   "source": [
    "# layer1 weights\n",
    "w1 = np.array([[20,-20],[20,-20]])\n",
    "b1 = np.array([[-30, 10]])\n",
    "l1 = Dense(2, 2)\n",
    "l1.setWeights(w1,b1)"
   ]
  },
  {
   "cell_type": "code",
   "execution_count": 7,
   "id": "8149016a",
   "metadata": {},
   "outputs": [],
   "source": [
    "# layer2 weights\n",
    "w2 = np.array([[20],[20]])\n",
    "b2 = np.array([[-10]])\n",
    "l2 = Dense(2, 1)\n",
    "l2.setWeights(w2,b2)"
   ]
  },
  {
   "cell_type": "code",
   "execution_count": 8,
   "id": "3e69a316",
   "metadata": {},
   "outputs": [],
   "source": [
    "# Build the NN\n",
    "nn = NN()\n",
    "nn.add(l1)\n",
    "nn.add(Activation(Sigmoid()))\n",
    "nn.add(l2)\n",
    "nn.add(Activation(Sigmoid()))\n",
    "# pass the info that the model is fitted\n",
    "nn.is_fitted = True"
   ]
  },
  {
   "cell_type": "code",
   "execution_count": 9,
   "id": "b8f8ed58",
   "metadata": {},
   "outputs": [
    {
     "data": {
      "text/plain": "array([[1.],\n       [0.],\n       [0.],\n       [1.]])"
     },
     "execution_count": 9,
     "metadata": {},
     "output_type": "execute_result"
    }
   ],
   "source": [
    "np.round(nn.predict(dataset.X))"
   ]
  },
  {
   "cell_type": "code",
   "execution_count": 10,
   "id": "a0bec0a5",
   "metadata": {},
   "outputs": [
    {
     "data": {
      "text/plain": "2.066588540474394e-09"
     },
     "execution_count": 10,
     "metadata": {},
     "output_type": "execute_result"
    }
   ],
   "source": [
    "nn.cost(dataset.X,dataset.y)"
   ]
  },
  {
   "cell_type": "markdown",
   "id": "a21d4930",
   "metadata": {},
   "source": [
    "## Train the model using backpropagation"
   ]
  },
  {
   "cell_type": "code",
   "execution_count": 11,
   "id": "187d0e28",
   "metadata": {},
   "outputs": [],
   "source": [
    "nn2 = NN(epochs=100000,lr=0.1, verbose=False)\n",
    "nn2.add(Dense(2, 2))\n",
    "nn2.add(Activation(Sigmoid()))\n",
    "nn2.add(Dense(2, 1))\n",
    "nn2.add(Activation(Sigmoid()))\n",
    "# use cross entropy instead of MSE as loss function\n",
    "# nn2.use(cross_entropy,cross_entropy_prime)"
   ]
  },
  {
   "cell_type": "code",
   "execution_count": 19,
   "id": "8dc1623c",
   "metadata": {},
   "outputs": [
    {
     "name": "stdout",
     "output_type": "stream",
     "text": [
      "epoch 100000/100000, error= 9.560740993436836e-05\roch 9272/100000, error= 0.00014741954225132954epoch 9892/100000, error= 0.00014687925828203951epoch 11157/100000, error= 0.00014578891008883906epoch 13197/100000, error= 0.0001440637516263709epoch 13841/100000, error= 0.000143527461751211epoch 14404/100000, error= 0.00014306183519251822epoch 16216/100000, error= 0.00014158321988413383epoch 16888/100000, error= 0.00014104248209079537epoch 18172/100000, error= 0.00014002051736480896epoch 19339/100000, error= 0.0001391042470838346epoch 21317/100000, error= 0.0001375779044561659epoch 22566/100000, error= 0.00013663098141551054epoch 23178/100000, error= 0.00013617166817542616epoch 24481/100000, error= 0.0001352038130603969epoch 25707/100000, error= 0.00013430544724082565epoch 26878/100000, error= 0.00013345829636920455epoch 27453/100000, error= 0.00013304615945233946epoch 28002/100000, error= 0.0001326549916079705epoch 28590/100000, error= 0.00013223854125581202epoch 29840/100000, error= 0.00013136173322758475epoch 31399/100000, error= 0.00013028410244962603epoch 31896/100000, error= 0.00012994421272304342epoch 35015/100000, error= 0.00012785044285987384epoch 36111/100000, error= 0.00012713040353326766epoch 37292/100000, error= 0.0001263634145006647epoch 37880/100000, error= 0.00012598493422695233epoch 39035/100000, error= 0.00012524795802581408epoch 40115/100000, error= 0.00012456648370548642epoch 40749/100000, error= 0.00012416982679763522epoch 42013/100000, error= 0.00012338639899300708epoch 42665/100000, error= 0.0001229860859993964epoch 43271/100000, error= 0.000122616304649773epoch 46290/100000, error= 0.00012080629289254962epoch 48060/100000, error= 0.00011976939544048026epoch 48612/100000, error= 0.00011944960385328153epoch 49245/100000, error= 0.00011908495208733796epoch 49898/100000, error= 0.0001187110715903736epoch 50524/100000, error= 0.00011835481643954291epoch 51032/100000, error= 0.00011806726041114705epoch 51940/100000, error= 0.00011755669906026113epoch 53318/100000, error= 0.00011679012320470528epoch 53844/100000, error= 0.00011650010435279522epoch 54414/100000, error= 0.00011618742427990132epoch 55504/100000, error= 0.00011559407674877805epoch 57229/100000, error= 0.00011466717734844385epoch 57850/100000, error= 0.00011433707129546611epoch 58486/100000, error= 0.00011400092843346819epoch 59114/100000, error= 0.00011367092047290177epoch 63346/100000, error= 0.00011149524538728001epoch 63937/100000, error= 0.00011119793074932792epoch 64480/100000, error= 0.0001109261384536281epoch 67416/100000, error= 0.00010947896190069292epoch 67839/100000, error= 0.00010927352563254493epoch 69318/100000, error= 0.00010856116592266033epoch 69954/100000, error= 0.00010825764552011852epoch 70596/100000, error= 0.00010795295462503031epoch 71216/100000, error= 0.00010766030614978393epoch 72359/100000, error= 0.00010712487624840595epoch 72920/100000, error= 0.00010686399712466328epoch 73549/100000, error= 0.0001065729825937919epoch 74186/100000, error= 0.00010627985572525493epoch 74814/100000, error= 0.00010599242312762563epoch 75445/100000, error= 0.00010570515783047478epoch 76026/100000, error= 0.00010544201006469085epoch 76519/100000, error= 0.00010521973089402812epoch 76986/100000, error= 0.00010501002524339143epoch 77535/100000, error= 0.0001047645495917318epoch 77967/100000, error= 0.00010457218287028401epoch 79932/100000, error= 0.00010370590361211418epoch 80803/100000, error= 0.00010332643193862038epoch 81143/100000, error= 0.00010317904530141416epoch 81388/100000, error= 0.00010307309709629321epoch 81702/100000, error= 0.00010293762384006014epoch 82636/100000, error= 0.00010253672429489436epoch 83028/100000, error= 0.00010236938298335505epoch 83483/100000, error= 0.00010217582197803086epoch 84739/100000, error= 0.00010164523736468809epoch 85345/100000, error= 0.0001013911782784735epoch 87011/100000, error= 0.00010069913945435607epoch 88009/100000, error= 0.00010028902703616283epoch 88617/100000, error= 0.00010004079063533655epoch 89236/100000, error= 9.978930559985467e-05epoch 89840/100000, error= 9.954511434325669e-05epoch 91089/100000, error= 9.904387778246449e-05epoch 91621/100000, error= 9.883189005868768e-05epoch 92685/100000, error= 9.841058951951338e-05epoch 93294/100000, error= 9.81710414242587e-05epoch 94530/100000, error= 9.768838565146106e-05epoch 95603/100000, error= 9.727316273753362e-05epoch 96622/100000, error= 9.68820483311796e-05epoch 97134/100000, error= 9.668670076182264e-05epoch 99416/100000, error= 9.582540172905086e-05epoch 99876/100000, error= 9.56536139762728e-05"
     ]
    }
   ],
   "source": [
    "nn2.fit(dataset)\n",
    "nn2.is_fitted = True #forcar o fit para True"
   ]
  },
  {
   "cell_type": "code",
   "execution_count": 20,
   "id": "77ecee76",
   "metadata": {},
   "outputs": [
    {
     "data": {
      "text/plain": "array([[1.],\n       [0.],\n       [0.],\n       [1.]])"
     },
     "execution_count": 20,
     "metadata": {},
     "output_type": "execute_result"
    }
   ],
   "source": [
    "np.round(nn2.predict(X))"
   ]
  },
  {
   "cell_type": "code",
   "execution_count": 16,
   "id": "9c39308d",
   "metadata": {},
   "outputs": [
    {
     "data": {
      "text/plain": "<Figure size 432x288 with 1 Axes>",
      "image/png": "[encoded data removed]"
     },
     "metadata": {
      "needs_background": "light"
     },
     "output_type": "display_data"
    }
   ],
   "source": [
    "import matplotlib.pyplot as plt\n",
    "%matplotlib inline\n",
    "plt.plot(list(nn2.history.keys()), list(nn2.history.values()), '-', color='red')\n",
    "plt.title('Loss')\n",
    "plt.show()"
   ]
  },
  {
   "cell_type": "code",
   "execution_count": 21,
   "id": "e0839b61",
   "metadata": {},
   "outputs": [
    {
     "data": {
      "text/plain": "array([[1.],\n       [0.],\n       [0.],\n       [1.]])"
     },
     "execution_count": 21,
     "metadata": {},
     "output_type": "execute_result"
    }
   ],
   "source": [
    "np.round(nn2.predict(dataset.X))"
   ]
  },
  {
   "cell_type": "code",
   "execution_count": 22,
   "id": "9c4cc530",
   "metadata": {},
   "outputs": [
    {
     "data": {
      "text/plain": "9.5607037500178e-05"
     },
     "execution_count": 22,
     "metadata": {},
     "output_type": "execute_result"
    }
   ],
   "source": [
    "nn2.cost(dataset.X,dataset.y)"
   ]
  },
  {
   "cell_type": "code",
   "execution_count": null,
   "id": "1045d635",
   "metadata": {},
   "outputs": [],
   "source": []
  }
 ],
 "metadata": {
  "interpreter": {
   "hash": "84e5a2fd7e25c8bcf38508d69068628463a9d9ea1454c39f49bb2bfb5f0bb0bf"
  },
  "kernelspec": {
   "display_name": "Python 3",
   "language": "python",
   "name": "python3"
  },
  "language_info": {
   "codemirror_mode": {
    "name": "ipython",
    "version": 3
   },
   "file_extension": ".py",
   "mimetype": "text/x-python",
   "name": "python",
   "nbconvert_exporter": "python",
   "pygments_lexer": "ipython3",
   "version": "3.8.8"
  }
 },
 "nbformat": 4,
 "nbformat_minor": 5
}